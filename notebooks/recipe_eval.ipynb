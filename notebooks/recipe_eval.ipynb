{
 "cells": [
  {
   "cell_type": "code",
   "execution_count": 1,
   "id": "protecting-regular",
   "metadata": {},
   "outputs": [],
   "source": [
    "import sys, json, itertools\n",
    "from pathlib import Path\n",
    "import torch\n",
    "from torch import nn\n",
    "from torch.nn import functional as F\n",
    "from torch.utils.data import DataLoader, random_split,TensorDataset\n",
    "import numpy as np\n",
    "import pandas as pd\n",
    "from transformers import T5Tokenizer, T5Config, T5ForConditionalGeneration, T5Model\n",
    "import pytorch_lightning as pl\n",
    "tokenizer = T5Tokenizer.from_pretrained('t5-small')"
   ]
  },
  {
   "cell_type": "code",
   "execution_count": 13,
   "id": "herbal-switch",
   "metadata": {},
   "outputs": [],
   "source": [
    "with open(\"../data/ingredients.json\", 'r') as f:\n",
    "    ingredients = dict(json.load(f))"
   ]
  },
  {
   "cell_type": "code",
   "execution_count": 2,
   "id": "expanded-reference",
   "metadata": {},
   "outputs": [
    {
     "data": {
      "text/html": [
       "<div>\n",
       "<style scoped>\n",
       "    .dataframe tbody tr th:only-of-type {\n",
       "        vertical-align: middle;\n",
       "    }\n",
       "\n",
       "    .dataframe tbody tr th {\n",
       "        vertical-align: top;\n",
       "    }\n",
       "\n",
       "    .dataframe thead th {\n",
       "        text-align: right;\n",
       "    }\n",
       "</style>\n",
       "<table border=\"1\" class=\"dataframe\">\n",
       "  <thead>\n",
       "    <tr style=\"text-align: right;\">\n",
       "      <th></th>\n",
       "      <th>input_seq</th>\n",
       "      <th>output_seq</th>\n",
       "    </tr>\n",
       "  </thead>\n",
       "  <tbody>\n",
       "    <tr>\n",
       "      <th>0</th>\n",
       "      <td>brown meat in a big skillet .</td>\n",
       "      <td>USE TSKILLET STOVE_MED PUT INJApA96N STOVE_MED...</td>\n",
       "    </tr>\n",
       "    <tr>\n",
       "      <th>1</th>\n",
       "      <td>remove from heat and drain the fat , if any .</td>\n",
       "      <td>MOVE_CONTENTS STOVE_MED FAUCET_OFF USE TSKILLE...</td>\n",
       "    </tr>\n",
       "    <tr>\n",
       "      <th>2</th>\n",
       "      <td>add the onion , celery and tomaotes .</td>\n",
       "      <td>MOVE_CONTENTS STOVE_MED COUNTER1 MOVE_CONTENTS...</td>\n",
       "    </tr>\n",
       "    <tr>\n",
       "      <th>3</th>\n",
       "      <td>stir until well mixed .</td>\n",
       "      <td>CHEF_CHECK LTEXTURE COUNTER1</td>\n",
       "    </tr>\n",
       "    <tr>\n",
       "      <th>4</th>\n",
       "      <td>place a layer of shredded cabbage in the botto...</td>\n",
       "      <td>USE TBAKE_DISH COUNTER2 USE TCOOK_SPRAY COUNTE...</td>\n",
       "    </tr>\n",
       "    <tr>\n",
       "      <th>...</th>\n",
       "      <td>...</td>\n",
       "      <td>...</td>\n",
       "    </tr>\n",
       "    <tr>\n",
       "      <th>496</th>\n",
       "      <td>add the cabbage and cook the vegetable mixture...</td>\n",
       "      <td>PUT IsxiK2rPw STOVE_MED CHEF_CHECK LTIME STOVE...</td>\n",
       "    </tr>\n",
       "    <tr>\n",
       "      <th>497</th>\n",
       "      <td>then cover with hot water , season with walt a...</td>\n",
       "      <td>USE TFOIL STOVE_MED PUT IzrIHcuDJ STOVE_MED PU...</td>\n",
       "    </tr>\n",
       "    <tr>\n",
       "      <th>498</th>\n",
       "      <td>add the rice and cook for 15 minutes longer .</td>\n",
       "      <td>PUT IN2e0UIJI STOVE_MED CHEF_CHECK LTIME STOVE...</td>\n",
       "    </tr>\n",
       "    <tr>\n",
       "      <th>499</th>\n",
       "      <td>add the cheese , stir gently and turn off the ...</td>\n",
       "      <td>PUT I_qDx9v7e STOVE_MED CHEF_CHECK LTIME STOVE...</td>\n",
       "    </tr>\n",
       "    <tr>\n",
       "      <th>500</th>\n",
       "      <td>cover and let stand for 5 minutes before servi...</td>\n",
       "      <td>MOVE_CONTENTS STOVE_MED SERVE USE TCOOK_SPRAY ...</td>\n",
       "    </tr>\n",
       "  </tbody>\n",
       "</table>\n",
       "<p>501 rows × 2 columns</p>\n",
       "</div>"
      ],
      "text/plain": [
       "                                             input_seq  \\\n",
       "0                        brown meat in a big skillet .   \n",
       "1        remove from heat and drain the fat , if any .   \n",
       "2                add the onion , celery and tomaotes .   \n",
       "3                              stir until well mixed .   \n",
       "4    place a layer of shredded cabbage in the botto...   \n",
       "..                                                 ...   \n",
       "496  add the cabbage and cook the vegetable mixture...   \n",
       "497  then cover with hot water , season with walt a...   \n",
       "498      add the rice and cook for 15 minutes longer .   \n",
       "499  add the cheese , stir gently and turn off the ...   \n",
       "500  cover and let stand for 5 minutes before servi...   \n",
       "\n",
       "                                            output_seq  \n",
       "0    USE TSKILLET STOVE_MED PUT INJApA96N STOVE_MED...  \n",
       "1    MOVE_CONTENTS STOVE_MED FAUCET_OFF USE TSKILLE...  \n",
       "2    MOVE_CONTENTS STOVE_MED COUNTER1 MOVE_CONTENTS...  \n",
       "3                         CHEF_CHECK LTEXTURE COUNTER1  \n",
       "4    USE TBAKE_DISH COUNTER2 USE TCOOK_SPRAY COUNTE...  \n",
       "..                                                 ...  \n",
       "496  PUT IsxiK2rPw STOVE_MED CHEF_CHECK LTIME STOVE...  \n",
       "497  USE TFOIL STOVE_MED PUT IzrIHcuDJ STOVE_MED PU...  \n",
       "498  PUT IN2e0UIJI STOVE_MED CHEF_CHECK LTIME STOVE...  \n",
       "499  PUT I_qDx9v7e STOVE_MED CHEF_CHECK LTIME STOVE...  \n",
       "500  MOVE_CONTENTS STOVE_MED SERVE USE TCOOK_SPRAY ...  \n",
       "\n",
       "[501 rows x 2 columns]"
      ]
     },
     "execution_count": 2,
     "metadata": {},
     "output_type": "execute_result"
    }
   ],
   "source": [
    "df=pd.read_csv(\"seq2seq_4335716.csv\")\n",
    "df"
   ]
  },
  {
   "cell_type": "code",
   "execution_count": 3,
   "id": "nasty-reasoning",
   "metadata": {},
   "outputs": [],
   "source": [
    "sys.path.append('/home/ubuntu/pycharm/recipe_parsing/src')\n",
    "from recipe_prep import *\n",
    "from recipe_t5 import *"
   ]
  },
  {
   "cell_type": "code",
   "execution_count": 4,
   "id": "automotive-allen",
   "metadata": {},
   "outputs": [],
   "source": [
    "vocab, token_types = t5_extra_vocab(31000)\n",
    "idx2vocab={v:k for k,v in vocab.items()}\n",
    "# model = T5Recipe.from_pretrained('/home/ubuntu/recipe_model')\n",
    "model = T5Recipe.from_pretrained('/home/ubuntu/trained_models/recipe_large_10')\n",
    "# model = T5ForConditionalGeneration.from_pretrained('/home/ubuntu/recipe_model')"
   ]
  },
  {
   "cell_type": "code",
   "execution_count": 5,
   "id": "through-aging",
   "metadata": {},
   "outputs": [
    {
     "data": {
      "text/plain": [
       "tensor([[3989, 6605,  552, 9024,    1]])"
      ]
     },
     "execution_count": 5,
     "metadata": {},
     "output_type": "execute_result"
    }
   ],
   "source": [
    "txt = \"cook rice until tender\"\n",
    "input_ids = tokenizer.encode(txt, return_tensors='pt')\n",
    "input_ids"
   ]
  },
  {
   "cell_type": "code",
   "execution_count": 6,
   "id": "several-bailey",
   "metadata": {},
   "outputs": [],
   "source": [
    "triplet_types = (token_types['commands'],\n",
    "token_types['args']+token_types['resources'],\n",
    "token_types['resources'])"
   ]
  },
  {
   "cell_type": "code",
   "execution_count": 7,
   "id": "ambient-watershed",
   "metadata": {},
   "outputs": [
    {
     "name": "stdout",
     "output_type": "stream",
     "text": [
      "BOOM\n"
     ]
    },
    {
     "data": {
      "text/plain": [
       "[31002,\n",
       " 31149,\n",
       " 31013,\n",
       " 31000,\n",
       " 31125,\n",
       " 31013,\n",
       " 31000,\n",
       " 31125,\n",
       " 31013,\n",
       " 31000,\n",
       " 31125,\n",
       " 31013,\n",
       " 31000,\n",
       " 31125,\n",
       " 31013,\n",
       " 31000,\n",
       " 31125,\n",
       " 31013,\n",
       " 31000]"
      ]
     },
     "execution_count": 7,
     "metadata": {},
     "output_type": "execute_result"
    }
   ],
   "source": [
    "min_length=10\n",
    "type_constraints = []\n",
    "# type_constraints = list(itertools.chain(*itertools.repeat(triplet_types,min_length)))\n",
    "model.set_generation_constraints(type_constraints)\n",
    "output_ids = model.generate(input_ids=input_ids, min_length=min_length)\n",
    "output_ids"
   ]
  },
  {
   "cell_type": "code",
   "execution_count": 28,
   "id": "parliamentary-lending",
   "metadata": {},
   "outputs": [
    {
     "data": {
      "text/html": [
       "<div>\n",
       "<style scoped>\n",
       "    .dataframe tbody tr th:only-of-type {\n",
       "        vertical-align: middle;\n",
       "    }\n",
       "\n",
       "    .dataframe tbody tr th {\n",
       "        vertical-align: top;\n",
       "    }\n",
       "\n",
       "    .dataframe thead th {\n",
       "        text-align: right;\n",
       "    }\n",
       "</style>\n",
       "<table border=\"1\" class=\"dataframe\">\n",
       "  <thead>\n",
       "    <tr style=\"text-align: right;\">\n",
       "      <th></th>\n",
       "      <th>cmd</th>\n",
       "      <th>arg</th>\n",
       "      <th>res</th>\n",
       "    </tr>\n",
       "  </thead>\n",
       "  <tbody>\n",
       "    <tr>\n",
       "      <th>1</th>\n",
       "      <td>USE</td>\n",
       "      <td>Sauce Pan</td>\n",
       "      <td>STOVE_MED</td>\n",
       "    </tr>\n",
       "    <tr>\n",
       "      <th>2</th>\n",
       "      <td>PUT</td>\n",
       "      <td>onion</td>\n",
       "      <td>STOVE_MED</td>\n",
       "    </tr>\n",
       "    <tr>\n",
       "      <th>3</th>\n",
       "      <td>PUT</td>\n",
       "      <td>onion</td>\n",
       "      <td>STOVE_MED</td>\n",
       "    </tr>\n",
       "    <tr>\n",
       "      <th>4</th>\n",
       "      <td>PUT</td>\n",
       "      <td>onion</td>\n",
       "      <td>STOVE_MED</td>\n",
       "    </tr>\n",
       "    <tr>\n",
       "      <th>5</th>\n",
       "      <td>PUT</td>\n",
       "      <td>onion</td>\n",
       "      <td>STOVE_MED</td>\n",
       "    </tr>\n",
       "    <tr>\n",
       "      <th>6</th>\n",
       "      <td>PUT</td>\n",
       "      <td>onion</td>\n",
       "      <td>STOVE_MED</td>\n",
       "    </tr>\n",
       "  </tbody>\n",
       "</table>\n",
       "</div>"
      ],
      "text/plain": [
       "   cmd        arg        res\n",
       "1  USE  Sauce Pan  STOVE_MED\n",
       "2  PUT      onion  STOVE_MED\n",
       "3  PUT      onion  STOVE_MED\n",
       "4  PUT      onion  STOVE_MED\n",
       "5  PUT      onion  STOVE_MED\n",
       "6  PUT      onion  STOVE_MED"
      ]
     },
     "execution_count": 28,
     "metadata": {},
     "output_type": "execute_result"
    }
   ],
   "source": [
    "def code_as_dataframe(output_ids):\n",
    "    code = [ingredients.get(idx2vocab[i],idx2vocab[i]) for i in output_ids]\n",
    "    df_code = []\n",
    "    curr=[]\n",
    "    for i,c in enumerate(code):\n",
    "        if i%3==0:\n",
    "            df_code.append(curr)\n",
    "            curr=[c]\n",
    "        else:\n",
    "            curr.append(c)\n",
    "    if len(curr)==3:\n",
    "        df_code.append(curr)\n",
    "    df_code = pd.DataFrame(df_code, columns = [\"cmd\", \"arg\", \"res\"]).dropna(how='all')\n",
    "    return df_code\n",
    "code_as_dataframe(output_ids)"
   ]
  },
  {
   "cell_type": "code",
   "execution_count": 32,
   "id": "equipped-general",
   "metadata": {},
   "outputs": [
    {
     "name": "stdout",
     "output_type": "stream",
     "text": [
      "BOOM\n"
     ]
    },
    {
     "data": {
      "text/html": [
       "<div>\n",
       "<style scoped>\n",
       "    .dataframe tbody tr th:only-of-type {\n",
       "        vertical-align: middle;\n",
       "    }\n",
       "\n",
       "    .dataframe tbody tr th {\n",
       "        vertical-align: top;\n",
       "    }\n",
       "\n",
       "    .dataframe thead th {\n",
       "        text-align: right;\n",
       "    }\n",
       "</style>\n",
       "<table border=\"1\" class=\"dataframe\">\n",
       "  <thead>\n",
       "    <tr style=\"text-align: right;\">\n",
       "      <th></th>\n",
       "      <th>cmd</th>\n",
       "      <th>arg</th>\n",
       "      <th>res</th>\n",
       "    </tr>\n",
       "  </thead>\n",
       "  <tbody>\n",
       "    <tr>\n",
       "      <th>1</th>\n",
       "      <td>USE</td>\n",
       "      <td>Sauce Pan</td>\n",
       "      <td>STOVE_MED</td>\n",
       "    </tr>\n",
       "    <tr>\n",
       "      <th>2</th>\n",
       "      <td>PUT</td>\n",
       "      <td>onion</td>\n",
       "      <td>STOVE_MED</td>\n",
       "    </tr>\n",
       "    <tr>\n",
       "      <th>3</th>\n",
       "      <td>PUT</td>\n",
       "      <td>onion</td>\n",
       "      <td>STOVE_MED</td>\n",
       "    </tr>\n",
       "    <tr>\n",
       "      <th>4</th>\n",
       "      <td>PUT</td>\n",
       "      <td>onion</td>\n",
       "      <td>STOVE_MED</td>\n",
       "    </tr>\n",
       "    <tr>\n",
       "      <th>5</th>\n",
       "      <td>PUT</td>\n",
       "      <td>onion</td>\n",
       "      <td>STOVE_MED</td>\n",
       "    </tr>\n",
       "    <tr>\n",
       "      <th>6</th>\n",
       "      <td>PUT</td>\n",
       "      <td>onion</td>\n",
       "      <td>STOVE_MED</td>\n",
       "    </tr>\n",
       "  </tbody>\n",
       "</table>\n",
       "</div>"
      ],
      "text/plain": [
       "   cmd        arg        res\n",
       "1  USE  Sauce Pan  STOVE_MED\n",
       "2  PUT      onion  STOVE_MED\n",
       "3  PUT      onion  STOVE_MED\n",
       "4  PUT      onion  STOVE_MED\n",
       "5  PUT      onion  STOVE_MED\n",
       "6  PUT      onion  STOVE_MED"
      ]
     },
     "execution_count": 32,
     "metadata": {},
     "output_type": "execute_result"
    }
   ],
   "source": [
    "def run_model_on_text(txt, min_length=10):\n",
    "    input_ids = tokenizer.encode(txt, return_tensors='pt')\n",
    "    output_ids = model.generate(input_ids=input_ids, min_length=min_length)\n",
    "    return code_as_dataframe(output_ids)\n",
    "\n",
    "run_model_on_text(\"freeze water until dry, cook for 10 minutes, let sit until cool\")"
   ]
  },
  {
   "cell_type": "code",
   "execution_count": null,
   "id": "valid-forward",
   "metadata": {},
   "outputs": [],
   "source": []
  }
 ],
 "metadata": {
  "kernelspec": {
   "display_name": "Environment (conda_pytorch_latest_p37)",
   "language": "python",
   "name": "conda_pytorch_latest_p37"
  },
  "language_info": {
   "codemirror_mode": {
    "name": "ipython",
    "version": 3
   },
   "file_extension": ".py",
   "mimetype": "text/x-python",
   "name": "python",
   "nbconvert_exporter": "python",
   "pygments_lexer": "ipython3",
   "version": "3.7.10"
  }
 },
 "nbformat": 4,
 "nbformat_minor": 5
}
