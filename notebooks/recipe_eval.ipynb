{
 "cells": [
  {
   "cell_type": "code",
   "execution_count": 1,
   "id": "protecting-regular",
   "metadata": {},
   "outputs": [],
   "source": [
    "import sys, json, itertools\n",
    "from pathlib import Path\n",
    "import torch\n",
    "from torch import nn\n",
    "from torch.nn import functional as F\n",
    "from torch.utils.data import DataLoader, random_split,TensorDataset\n",
    "import numpy as np\n",
    "from transformers import T5Tokenizer, T5Config, T5ForConditionalGeneration, T5Model\n",
    "import pytorch_lightning as pl\n",
    "tokenizer = T5Tokenizer.from_pretrained('t5-small')"
   ]
  },
  {
   "cell_type": "code",
   "execution_count": 2,
   "id": "nasty-reasoning",
   "metadata": {},
   "outputs": [],
   "source": [
    "sys.path.append('/home/ubuntu/pycharm/recipe_parsing/src')\n",
    "from recipe_prep import *\n",
    "from recipe_t5 import *"
   ]
  },
  {
   "cell_type": "code",
   "execution_count": 7,
   "id": "automotive-allen",
   "metadata": {},
   "outputs": [],
   "source": [
    "vocab, token_types = t5_extra_vocab(31000)\n",
    "idx2vocab={v:k for k,v in vocab.items()}\n",
    "model = T5Recipe.from_pretrained('/home/ubuntu/recipe_model')\n",
    "# model = T5ForConditionalGeneration.from_pretrained('/home/ubuntu/recipe_model')"
   ]
  },
  {
   "cell_type": "code",
   "execution_count": 8,
   "id": "through-aging",
   "metadata": {},
   "outputs": [
    {
     "data": {
      "text/plain": [
       "tensor([[  276, 22777,  4836,    12, 10239,     1]])"
      ]
     },
     "execution_count": 8,
     "metadata": {},
     "output_type": "execute_result"
    }
   ],
   "source": [
    "txt = \"Preheat oven to 350 \"\n",
    "input_ids = tokenizer.encode(txt, return_tensors='pt')\n",
    "input_ids"
   ]
  },
  {
   "cell_type": "code",
   "execution_count": 25,
   "id": "several-bailey",
   "metadata": {},
   "outputs": [],
   "source": [
    "triplet_types = (token_types['commands'],\n",
    "token_types['args']+token_types['resources'],\n",
    "token_types['resources'])"
   ]
  },
  {
   "cell_type": "code",
   "execution_count": 28,
   "id": "ambient-watershed",
   "metadata": {},
   "outputs": [
    {
     "name": "stdout",
     "output_type": "stream",
     "text": [
      "BOOM\n"
     ]
    },
    {
     "name": "stderr",
     "output_type": "stream",
     "text": [
      "/home/ubuntu/pycharm/recipe_parsing/src/recipe_t5.py:32: UserWarning: Implicit dimension choice for softmax has been deprecated. Change the call to include dim=X as an argument.\n",
      "  ret.append((self.constraints[i] * F.softmax(score)).argmax().item())\n"
     ]
    },
    {
     "data": {
      "text/plain": [
       "[31000,\n",
       " 31017,\n",
       " 31014,\n",
       " 31002,\n",
       " 31143,\n",
       " 31014,\n",
       " 31002,\n",
       " 31143,\n",
       " 31014,\n",
       " 31002,\n",
       " 31143,\n",
       " 31014,\n",
       " 31002,\n",
       " 31143,\n",
       " 31014,\n",
       " 31002,\n",
       " 31143,\n",
       " 31014,\n",
       " 31002]"
      ]
     },
     "execution_count": 28,
     "metadata": {},
     "output_type": "execute_result"
    }
   ],
   "source": [
    "min_length=10\n",
    "type_constraints = list(itertools.chain(*itertools.repeat(triplet_types,min_length)))\n",
    "model.set_generation_constraints(type_constraints)\n",
    "output_ids = model.generate(input_ids=input_ids, min_length=min_length)\n",
    "output_ids"
   ]
  },
  {
   "cell_type": "code",
   "execution_count": 29,
   "id": "parliamentary-lending",
   "metadata": {},
   "outputs": [
    {
     "data": {
      "text/plain": [
       "['PUT',\n",
       " 'OVEN_MED',\n",
       " 'STOVE_MEDHI',\n",
       " 'USE',\n",
       " 'TBOWL',\n",
       " 'STOVE_MEDHI',\n",
       " 'USE',\n",
       " 'TBOWL',\n",
       " 'STOVE_MEDHI',\n",
       " 'USE',\n",
       " 'TBOWL',\n",
       " 'STOVE_MEDHI',\n",
       " 'USE',\n",
       " 'TBOWL',\n",
       " 'STOVE_MEDHI',\n",
       " 'USE',\n",
       " 'TBOWL',\n",
       " 'STOVE_MEDHI',\n",
       " 'USE']"
      ]
     },
     "execution_count": 29,
     "metadata": {},
     "output_type": "execute_result"
    }
   ],
   "source": [
    "list(map(idx2vocab.get, output_ids))"
   ]
  },
  {
   "cell_type": "code",
   "execution_count": null,
   "id": "desirable-philip",
   "metadata": {},
   "outputs": [],
   "source": []
  },
  {
   "cell_type": "code",
   "execution_count": null,
   "id": "equipped-general",
   "metadata": {},
   "outputs": [],
   "source": []
  }
 ],
 "metadata": {
  "kernelspec": {
   "display_name": "Environment (conda_pytorch_latest_p37)",
   "language": "python",
   "name": "conda_pytorch_latest_p37"
  },
  "language_info": {
   "codemirror_mode": {
    "name": "ipython",
    "version": 3
   },
   "file_extension": ".py",
   "mimetype": "text/x-python",
   "name": "python",
   "nbconvert_exporter": "python",
   "pygments_lexer": "ipython3",
   "version": "3.7.10"
  }
 },
 "nbformat": 4,
 "nbformat_minor": 5
}
