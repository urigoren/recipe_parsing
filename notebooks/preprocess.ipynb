{
 "cells": [
  {
   "cell_type": "code",
   "execution_count": 1,
   "metadata": {},
   "outputs": [],
   "source": [
    "import pickle, sys, itertools, json, collections\n",
    "\n",
    "sys.path.append('../src')\n",
    "import instruction_parsing\n",
    "\n",
    "batch = 4335716\n",
    "with open(f\"../data/trainset_{batch}.pickle\", 'rb') as f:\n",
    "    trainset = pickle.load(f)"
   ]
  },
  {
   "cell_type": "code",
   "execution_count": 2,
   "metadata": {},
   "outputs": [],
   "source": [
    "res2idx = {r:i for i,r in enumerate(instruction_parsing.resource_dict.keys())}\n",
    "args = set()\n",
    "for cmd in sum(map(lambda x: x[\"program\"], trainset.values()), []):\n",
    "    if cmd.command == instruction_parsing.Commands.MOVE_CONTENTS:\n",
    "        continue\n",
    "    args.add(cmd.arg)\n",
    "arg2idx = {a:i for i,a in enumerate(sorted(args))}\n",
    "\n",
    "\n",
    "def serialize_command(cmd):\n",
    "    r = res2idx[cmd.resource]\n",
    "    if cmd.command == instruction_parsing.Commands.MOVE_CONTENTS:\n",
    "        a = res2idx[cmd.arg]\n",
    "    else:\n",
    "        a = arg2idx[cmd.arg]\n",
    "    return (cmd.command.value, a, r)\n",
    "\n",
    "dataset = []\n",
    "for assignment, val in trainset.items():\n",
    "    t = [(ins, [serialize_command(cmd) for cmd in val[\"program\"] if cmd.ts==i+1]) for i,ins in enumerate(val[\"instructions\"])]\n",
    "    dataset.append(t)\n",
    "\n",
    "with open(\"../preprocessed/arg2idx.json\", 'w') as f:\n",
    "    json.dump(arg2idx, f)\n",
    "with open(\"../preprocessed/res2idx.json\", 'w') as f:\n",
    "    json.dump(res2idx, f)\n",
    "with open(f\"../preprocessed/trainset_{batch}.json\", 'w') as f:\n",
    "    json.dump(dataset, f)"
   ]
  },
  {
   "cell_type": "code",
   "execution_count": null,
   "metadata": {},
   "outputs": [],
   "source": []
  }
 ],
 "metadata": {
  "kernelspec": {
   "display_name": "Python 3",
   "language": "python",
   "name": "python3"
  },
  "language_info": {
   "codemirror_mode": {
    "name": "ipython",
    "version": 3
   },
   "file_extension": ".py",
   "mimetype": "text/x-python",
   "name": "python",
   "nbconvert_exporter": "python",
   "pygments_lexer": "ipython3",
   "version": "3.8.5"
  }
 },
 "nbformat": 4,
 "nbformat_minor": 4
}
